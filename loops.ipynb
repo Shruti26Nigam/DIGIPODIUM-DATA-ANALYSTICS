{
 "cells": [
  {
   "cell_type": "code",
   "execution_count": 3,
   "metadata": {},
   "outputs": [
    {
     "name": "stdout",
     "output_type": "stream",
     "text": [
      "12\n"
     ]
    }
   ],
   "source": [
    "name = \"Shruti Nigam\"\n",
    "print(len(name))\n"
   ]
  },
  {
   "cell_type": "code",
   "execution_count": 4,
   "metadata": {},
   "outputs": [
    {
     "name": "stdout",
     "output_type": "stream",
     "text": [
      "S\n",
      "h\n",
      "r\n",
      "u\n",
      "t\n",
      "i\n",
      " \n",
      "N\n",
      "i\n",
      "g\n",
      "a\n",
      "m\n"
     ]
    }
   ],
   "source": [
    "for char in name:\n",
    "    print(char)"
   ]
  },
  {
   "cell_type": "code",
   "execution_count": 5,
   "metadata": {},
   "outputs": [
    {
     "name": "stdout",
     "output_type": "stream",
     "text": [
      "u\n",
      "i\n",
      "i\n",
      "a\n"
     ]
    }
   ],
   "source": [
    "for i in name:\n",
    "    if i in 'aeiouAEIOU':\n",
    "        print(i)"
   ]
  },
  {
   "cell_type": "code",
   "execution_count": 6,
   "metadata": {},
   "outputs": [
    {
     "name": "stdout",
     "output_type": "stream",
     "text": [
      "red\n",
      "green\n",
      "blue\n",
      "black\n"
     ]
    }
   ],
   "source": [
    "colors = ['red','green','blue','black']\n",
    "for color in colors:\n",
    "    print(color)"
   ]
  },
  {
   "cell_type": "code",
   "execution_count": 12,
   "metadata": {},
   "outputs": [
    {
     "name": "stdout",
     "output_type": "stream",
     "text": [
      "red has3 chars\n",
      "green has5 chars\n",
      "blue has4 chars\n",
      "black has5 chars\n"
     ]
    }
   ],
   "source": [
    "for c in colors:\n",
    "    print(f'{c} has{len(c)} chars')"
   ]
  },
  {
   "attachments": {},
   "cell_type": "markdown",
   "metadata": {},
   "source": [
    "wap to print if the length of a string is even or, from a list of string"
   ]
  },
  {
   "cell_type": "code",
   "execution_count": 1,
   "metadata": {},
   "outputs": [
    {
     "ename": "NameError",
     "evalue": "name 'flowers' is not defined",
     "output_type": "error",
     "traceback": [
      "\u001b[1;31m---------------------------------------------------------------------------\u001b[0m",
      "\u001b[1;31mNameError\u001b[0m                                 Traceback (most recent call last)",
      "Cell \u001b[1;32mIn[1], line 1\u001b[0m\n\u001b[1;32m----> 1\u001b[0m \u001b[39mfor\u001b[39;00m i, flower \u001b[39min\u001b[39;00m \u001b[39menumerate\u001b[39m(flowers):\n\u001b[0;32m      2\u001b[0m     \u001b[39mprint\u001b[39m\n",
      "\u001b[1;31mNameError\u001b[0m: name 'flowers' is not defined"
     ]
    }
   ],
   "source": [
    "for i, flower in enumerate(flowers):\n",
    "    print"
   ]
  },
  {
   "cell_type": "code",
   "execution_count": 2,
   "metadata": {},
   "outputs": [
    {
     "name": "stdout",
     "output_type": "stream",
     "text": [
      "lily\n",
      "sunflower\n",
      "lotus\n",
      "jasmine\n"
     ]
    }
   ],
   "source": [
    "flowers = ['lily','sunflower','lotus','jasmine']\n",
    "for flower in flowers:\n",
    "    print(flower)"
   ]
  },
  {
   "cell_type": "code",
   "execution_count": 3,
   "metadata": {},
   "outputs": [
    {
     "name": "stdout",
     "output_type": "stream",
     "text": [
      "0 lily\n",
      "1 sunflower\n",
      "2 lotus\n",
      "3 jasmine\n"
     ]
    }
   ],
   "source": [
    "for i, flower in enumerate(flowers):\n",
    "    print(i,flower)"
   ]
  },
  {
   "cell_type": "code",
   "execution_count": 5,
   "metadata": {},
   "outputs": [
    {
     "name": "stdout",
     "output_type": "stream",
     "text": [
      "(1 + 3)**2 = 16\n",
      "(2 + 5)**2 = 49\n",
      "(3 + 6)**2 = 81\n",
      "(4 + 7)**2 = 121\n",
      "(5 + 8)**2 = 169\n",
      "(6 + 2)**2 = 64\n"
     ]
    }
   ],
   "source": [
    "x = [1,2,3,4,5,6]\n",
    "y = [3,5,6,7,8,2]\n",
    "\n",
    "# use the formula (a+b)**2 for each pair of  values from both list\n",
    "for i, j in zip(x,y):\n",
    "    print(f'({i} + {j})**2 = {(i+j)**2}')"
   ]
  },
  {
   "attachments": {},
   "cell_type": "markdown",
   "metadata": {},
   "source": [
    "## break and continue"
   ]
  },
  {
   "cell_type": "code",
   "execution_count": 6,
   "metadata": {},
   "outputs": [
    {
     "name": "stdout",
     "output_type": "stream",
     "text": [
      "2\n",
      "3\n",
      "4\n",
      "6\n",
      "6\n",
      "1\n",
      "2\n",
      "3\n",
      "4\n",
      "5\n",
      "6\n",
      "6\n",
      "7\n",
      "7\n",
      "3\n",
      "2\n",
      "1\n",
      "1\n"
     ]
    }
   ],
   "source": [
    "a = [2,3,4,0,0,0,6,6,1,0,2,3,4,0,0,5,6,6,7,7,3,0,0,0,2,1,1]\n",
    "for i in a:\n",
    "    if i == 0: continue\n",
    "    print(i)"
   ]
  },
  {
   "cell_type": "code",
   "execution_count": 8,
   "metadata": {},
   "outputs": [
    {
     "name": "stdout",
     "output_type": "stream",
     "text": [
      "Sam\n",
      "Sara\n",
      "Alexa\n"
     ]
    }
   ],
   "source": [
    "names = ['Sam','Sara','Alexa','','Alex','John','','Jill','Jack']\n",
    "for name in names:\n",
    "    if len(name)== 0: break\n",
    "    print(name)"
   ]
  },
  {
   "cell_type": "code",
   "execution_count": 9,
   "metadata": {},
   "outputs": [
    {
     "name": "stdout",
     "output_type": "stream",
     "text": [
      "Sam\n",
      "Sara\n",
      "Alexa\n",
      "Error: Empty name found\n"
     ]
    }
   ],
   "source": [
    "names = ['Sam','Sara','Alexa','','Alex','John','','Jill','Jack']\n",
    "for name in names:\n",
    "    if len(name)== 0:\n",
    "        print('Error: Empty name found')\n",
    "        break\n",
    "    print(name)"
   ]
  },
  {
   "cell_type": "code",
   "execution_count": null,
   "metadata": {},
   "outputs": [],
   "source": []
  }
 ],
 "metadata": {
  "kernelspec": {
   "display_name": "base",
   "language": "python",
   "name": "python3"
  },
  "language_info": {
   "codemirror_mode": {
    "name": "ipython",
    "version": 3
   },
   "file_extension": ".py",
   "mimetype": "text/x-python",
   "name": "python",
   "nbconvert_exporter": "python",
   "pygments_lexer": "ipython3",
   "version": "3.10.8"
  },
  "orig_nbformat": 4,
  "vscode": {
   "interpreter": {
    "hash": "bd97b8bffa4d3737e84826bc3d37be3046061822757ce35137ab82ad4c5a2016"
   }
  }
 },
 "nbformat": 4,
 "nbformat_minor": 2
}
