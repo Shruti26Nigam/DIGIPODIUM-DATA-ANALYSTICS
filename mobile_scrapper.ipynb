{
 "cells": [
  {
   "cell_type": "code",
   "execution_count": 1,
   "metadata": {},
   "outputs": [],
   "source": [
    "from dputils.scrape import Scraper, Tag"
   ]
  },
  {
   "cell_type": "code",
   "execution_count": 2,
   "metadata": {},
   "outputs": [
    {
     "name": "stdout",
     "output_type": "stream",
     "text": [
      "<title>Amazon.in : phone</title>\n"
     ]
    }
   ],
   "source": [
    "query = 'phone'\n",
    "page = 1 \n",
    "webpage = Scraper(f'https://www.amazon.in/s?k={query}&page={4}')\n",
    "print(webpage.soup.title)"
   ]
  },
  {
   "cell_type": "code",
   "execution_count": 3,
   "metadata": {},
   "outputs": [],
   "source": [
    "target = Tag('div', cls='s-main-slot s-result-list s-search-results sg-row')\n",
    "items = Tag('div', cls='s-result-item')\n",
    "title = Tag('h2')\n",
    "price = Tag('span', cls='a-price-whole')\n"
   ]
  },
  {
   "cell_type": "code",
   "execution_count": 4,
   "metadata": {},
   "outputs": [
    {
     "data": {
      "text/plain": [
       "[{'title': None, 'price': None},\n",
       " {'title': None, 'price': None},\n",
       " {'title': 'Apple iPhone 13 (128GB) - Midnight  ', 'price': '61,999'},\n",
       " {'title': 'Samsung Galaxy M33 5G (Emerald Brown, 6GB, 128GB Storage) | 6000mAh Battery | Upto 12GB RAM with RAM Plus | Travel Adapter to be Purchased Separately  ',\n",
       "  'price': '17,999'},\n",
       " {'title': 'Vox V14 Keypad Mobile with King Talker, Contact Icon, Auto Call Recording (2.4 Inch Display, Dual Sim) (Blue)  ',\n",
       "  'price': '883'},\n",
       " {'title': 'realme narzo 50 5G (Hyper Black, 4GB RAM+64GB Storage) Dimensity 810 5G Processor | 48MP Ultra HD Camera  ',\n",
       "  'price': '13,999'},\n",
       " {'title': '(Renewed) OPPO A77 (Sky Blue, 4GB RAM, 128 Storage) with No Cost EMI/Additional Exchange Offers  ',\n",
       "  'price': '12,399'},\n",
       " {'title': None, 'price': None},\n",
       " {'title': 'Nokia C12 Android 12 (Go Edition) Smartphone, All-Day Battery, 4GB RAM (2GB RAM + 2GB Virtual RAM) + 64GB Capacity | Charcoal  ',\n",
       "  'price': '6,599'},\n",
       " {'title': 'Nothing Phone (1) 5G (White, 256 GB) (8 GB RAM)  ', 'price': None},\n",
       " {'title': 'Snexian Guru 312 (Pink) Dual Sim Phone  ', 'price': '699'},\n",
       " {'title': 'Nokia 2660 Flip 4G Volte keypad Phone with Dual SIM, Dual Screen, inbuilt MP3 Player & Wireless FM Radio | Blue  ',\n",
       "  'price': '4,499'},\n",
       " {'title': 'Nokia 8210 4G Volte keypad Phone with Dual SIM, Big Display, inbuilt MP3 Player & Wireless FM Radio | Blue  ',\n",
       "  'price': '3,999'},\n",
       " {'title': 'Apple iPhone 13 Mini (128GB) - Midnight  ', 'price': '64,900'},\n",
       " {'title': 'Tecno POP 7 Pro (Uyuni Blue, 2GB RAM,64GB Storage) | Type C Port | 12MP Dual Camera | Up to 4GB RAM with Memory Fusion  ',\n",
       "  'price': '6,799'},\n",
       " {'title': 'IKALL K100 Mobile (1.8 Inch, Dual Sim) (Blue)  ', 'price': '699'},\n",
       " {'title': None, 'price': None},\n",
       " {'title': 'India Gadgets - Power Armor 14 Pro Rugged Android 12 Mobile Phone: 6Gb + 128Gb: 20MP Triple Camera: 6.52\" HD+ Display: Massive 10000mAh Battery: Waterproof IP68 Smartphone- Black  ',\n",
       "  'price': '35,750'},\n",
       " {'title': '(Renewed) Xiaomi Redmi 6A (Black, 16GB)  ', 'price': None},\n",
       " {'title': 'Lava Flip, Blue - Dual Sim Keypad GSM Mobile with Unique Design, Notification LED and Number Talker  ',\n",
       "  'price': '1,790'},\n",
       " {'title': 'Nokia 105 Plus Single SIM, Keypad Mobile Phone with Wireless FM Radio, Memory Card Slot and MP3 Player | Charcoal  ',\n",
       "  'price': None},\n",
       " {'title': 'Redmi Note 12 5G Mystique Blue 6GB RAM 128GB ROM | 1st Phone with 120Hz Super AMOLED and Snapdragon® 4 Gen 1 | 48MP AI Triple Camera  ',\n",
       "  'price': '19,999'},\n",
       " {'title': 'Jio Phone Next 32GB, 2 GB RAM, Blue Smartphone  ',\n",
       "  'price': '5,999'},\n",
       " {'title': 'Lava Hero 600i (Sapphire Blue) with Sleek and Stylish Design, 10 Regional Languages Input Support, Auto Call Recording, Wireless FM with Recording and 32 GB Expandable Storage  ',\n",
       "  'price': '849'},\n",
       " {'title': 'IKALL Z13 4G Smartphone with 6.53 inch HD+ Display (4GB RAM, 64GB Storage) (Cyan)  ',\n",
       "  'price': '6,499'},\n",
       " {'title': 'IKALL K450 4G Smartphone with 6.26 Inch HD Display (4GB RAM, 32GB Storage) (Dark Blue)  ',\n",
       "  'price': '5,999'},\n",
       " {'title': None, 'price': None},\n",
       " {'title': None, 'price': None},\n",
       " {'title': None, 'price': None},\n",
       " {'title': None, 'price': None}]"
      ]
     },
     "execution_count": 4,
     "metadata": {},
     "output_type": "execute_result"
    }
   ],
   "source": [
    "webpage.get_all(target,items, title=title, price=price)"
   ]
  },
  {
   "cell_type": "code",
   "execution_count": 5,
   "metadata": {},
   "outputs": [],
   "source": [
    "def scrape_product(query,page=1):\n",
    "    webpage = Scraper(f'https://www.amazon.in/s?k={query}&page={page}')\n",
    "    print(webpage.soup.title)\n",
    "     #important\n",
    "    target = Tag('div', cls='s-main-slot s-result-list s-search-results sg-row')\n",
    "    items = Tag('div', cls='s-result-item')\n",
    "    title = Tag('h2')\n",
    "    price = Tag('span', cls='a-price-whole')\n",
    "    return webpage.get_all(target,items, title=title, price=price)\n"
   ]
  },
  {
   "cell_type": "code",
   "execution_count": 6,
   "metadata": {},
   "outputs": [
    {
     "name": "stdout",
     "output_type": "stream",
     "text": [
      "<title>Amazon.in : laptops</title>\n",
      "Page 1 done\n",
      "<title>Amazon.in : laptops</title>\n",
      "Page 2 done\n",
      "<title>Amazon.in : laptops</title>\n",
      "Page 3 done\n",
      "<title>Amazon.in : laptops</title>\n",
      "Page 4 done\n",
      "<title>Amazon.in : laptops</title>\n",
      "Page 5 done\n",
      "<title>Amazon.in : laptops</title>\n",
      "Page 6 done\n",
      "<title>Amazon.in : laptops</title>\n",
      "Page 7 done\n",
      "<title>Amazon.in : laptops</title>\n",
      "Page 8 done\n",
      "<title>Amazon.in : laptops</title>\n",
      "Page 9 done\n",
      "<title>Amazon.in : laptops</title>\n",
      "Page 10 done\n",
      "<title>Amazon.in : laptops</title>\n",
      "Page 11 done\n",
      "<title>Amazon.in : laptops</title>\n",
      "Page 12 done\n",
      "<title>Amazon.in : laptops</title>\n",
      "Page 13 done\n"
     ]
    }
   ],
   "source": [
    "all_data = []\n",
    "query='laptops'\n",
    "for i in range(1, 14):\n",
    "    all_data.extend(scrape_product(query,1))\n",
    "    print(f'Page {i} done')"
   ]
  },
  {
   "cell_type": "code",
   "execution_count": 8,
   "metadata": {},
   "outputs": [],
   "source": [
    "import pandas as pd\n",
    "df = pd.DataFrame(all_data).dropna(how='all')\n",
    "df.to_csv('laptops.csv', index=False)"
   ]
  },
  {
   "cell_type": "code",
   "execution_count": null,
   "metadata": {},
   "outputs": [],
   "source": []
  }
 ],
 "metadata": {
  "kernelspec": {
   "display_name": "base",
   "language": "python",
   "name": "python3"
  },
  "language_info": {
   "codemirror_mode": {
    "name": "ipython",
    "version": 3
   },
   "file_extension": ".py",
   "mimetype": "text/x-python",
   "name": "python",
   "nbconvert_exporter": "python",
   "pygments_lexer": "ipython3",
   "version": "3.10.8"
  },
  "orig_nbformat": 4,
  "vscode": {
   "interpreter": {
    "hash": "bd97b8bffa4d3737e84826bc3d37be3046061822757ce35137ab82ad4c5a2016"
   }
  }
 },
 "nbformat": 4,
 "nbformat_minor": 2
}
