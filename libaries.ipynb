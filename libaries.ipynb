{
 "cells": [
  {
   "cell_type": "code",
   "execution_count": null,
   "metadata": {},
   "outputs": [],
   "source": []
  },
  {
   "attachments": {},
   "cell_type": "markdown",
   "metadata": {},
   "source": [
    "# libaries or modules\n",
    "- 'import lib_name'\n",
    "- 'import lib_name as alias'\n",
    "\n",
    "eg., import random as rd\n",
    "- "
   ]
  },
  {
   "cell_type": "code",
   "execution_count": 1,
   "metadata": {},
   "outputs": [],
   "source": [
    "import math"
   ]
  },
  {
   "cell_type": "code",
   "execution_count": 11,
   "metadata": {},
   "outputs": [
    {
     "name": "stdout",
     "output_type": "stream",
     "text": [
      "3.605551275463989\n",
      "1307674368000\n",
      "6.643856189774725\n",
      "2.0\n",
      "3.141592653589793\n",
      "2.718281828459045\n",
      "6\n",
      "72\n"
     ]
    }
   ],
   "source": [
    "print(math.sqrt(13))\n",
    "print(math.factorial(15))\n",
    "print(math.log(100, 2))\n",
    "print(math.log(100, 10 ))\n",
    "print(math.pi)\n",
    "print(math.e)\n",
    "print(math.gcd(12, 18, 24))\n",
    "print(math.lcm(12, 18, 24))"
   ]
  },
  {
   "cell_type": "code",
   "execution_count": 12,
   "metadata": {},
   "outputs": [],
   "source": [
    "from random import random, randint, choice, shuffle"
   ]
  },
  {
   "cell_type": "code",
   "execution_count": 15,
   "metadata": {},
   "outputs": [
    {
     "name": "stdout",
     "output_type": "stream",
     "text": [
      "get arandom value between 0 and 1: 0.09771513352300976\n",
      "get a random integer between 50 amd 100 : 75\n",
      "select a random item Jill\n",
      "shuffle a list ['John', 'Jack', 'Jane', 'Jmaie', 'Jill']\n"
     ]
    }
   ],
   "source": [
    "print('get arandom value between 0 and 1:', random())\n",
    "print('get a random integer between 50 amd 100 :', randint(50, 100))\n",
    "print('select a random item', choice(['John', 'Jane', 'Jack', 'Jill', 'Hamie']))\n",
    "names = ['John', 'Jane', 'Jack', 'Jmaie', 'Jill']\n",
    "shuffle(names)\n",
    "print('shuffle a list', names)"
   ]
  },
  {
   "cell_type": "code",
   "execution_count": 16,
   "metadata": {},
   "outputs": [],
   "source": [
    "from datetime import datetime as dt"
   ]
  },
  {
   "cell_type": "code",
   "execution_count": 23,
   "metadata": {},
   "outputs": [
    {
     "name": "stdout",
     "output_type": "stream",
     "text": [
      "current time 2023-03-11 10:26:10.772015\n",
      "current date 2023-03-11\n",
      "current time 10:26:10.773015\n",
      "timestamp 1678510570.773015\n",
      "year 2023\n",
      "month 3\n"
     ]
    }
   ],
   "source": [
    "print('current time', dt.now())\n",
    "print('current date', dt.now().date())\n",
    "print('current time', dt.now().time())\n",
    "print('timestamp', dt.now().timestamp())\n",
    "print('year', dt.now().year)\n",
    "print('month', dt.now().month)\n",
    "\n"
   ]
  },
  {
   "cell_type": "code",
   "execution_count": 22,
   "metadata": {},
   "outputs": [
    {
     "name": "stdout",
     "output_type": "stream",
     "text": [
      "formatted date 11/03/2023\n"
     ]
    }
   ],
   "source": [
    "date = dt.strftime(dt.now(), '%d/%m/%Y')\n",
    "print('formatted date', date)"
   ]
  },
  {
   "cell_type": "code",
   "execution_count": 24,
   "metadata": {},
   "outputs": [],
   "source": [
    "import os"
   ]
  },
  {
   "cell_type": "code",
   "execution_count": 25,
   "metadata": {},
   "outputs": [
    {
     "name": "stdout",
     "output_type": "stream",
     "text": [
      "current folder c:\\Users\\Admin\\Documents\\DIGIPODIUM DATA ANALYSTICS\n"
     ]
    }
   ],
   "source": [
    "print('current folder',os.getcwd()) # get current working directory"
   ]
  },
  {
   "cell_type": "code",
   "execution_count": 26,
   "metadata": {},
   "outputs": [
    {
     "name": "stdout",
     "output_type": "stream",
     "text": [
      "['.git', 'conditional.ipynb', 'func.ipynb', 'func2.ipynb', 'game1.py', 'hello.py', 'hpractice.py', 'level1.ipynb', 'level1_part2.ipynb', 'libaries.ipynb', 'loops.ipynb', 'music', 'nested.py', 'practice.ipynb', 'practice.py', 'pynb', 'sounds', 'star.ipy', 'string.ipynb', 't1.py', 't2.py']\n"
     ]
    }
   ],
   "source": [
    "files = os.listdir() # get all the files in the current folder\n",
    "print(files)"
   ]
  },
  {
   "cell_type": "code",
   "execution_count": 28,
   "metadata": {},
   "outputs": [
    {
     "name": "stdout",
     "output_type": "stream",
     "text": [
      "['DECLS.jpg', 'desktop.ini', 'DIGIPODIUM DATA ANALYSTICS', 'My Music', 'My Pictures', 'My Videos', 'New folder', 'pp.jpg', 'PPF.docx', 'RESUME.docx', 'RESUME1.docx', 'ssss.jpg', 'THUM.jpg']\n",
      "13\n"
     ]
    }
   ],
   "source": [
    "files = os.listdir(r'C:\\users\\Admin\\Documents')\n",
    "print(files)\n",
    "print(len(files))"
   ]
  },
  {
   "cell_type": "code",
   "execution_count": 32,
   "metadata": {},
   "outputs": [
    {
     "name": "stdout",
     "output_type": "stream",
     "text": [
      "=> C:/users/Admin/Videos\n",
      "🧓 ['Captures']\n",
      "👲 ['desktop.ini']\n",
      "---------------\n",
      "total files 1\n",
      "=> C:/users/Admin/Videos\\Captures\n",
      "🧓 []\n",
      "👲 ['desktop.ini']\n",
      "---------------\n",
      "total files 2\n"
     ]
    }
   ],
   "source": [
    "total_files = 0\n",
    "for path, folders, files in os.walk('C:/users/Admin/Videos'):\n",
    "  print('=>', path)     \n",
    "  print('🧓', folders)\n",
    "  print('👲', files) \n",
    "  print('-'*15)\n",
    "  total_files += len(files)\n",
    "  print('total files', total_files)\n"
   ]
  },
  {
   "cell_type": "code",
   "execution_count": 38,
   "metadata": {},
   "outputs": [
    {
     "name": "stdout",
     "output_type": "stream",
     "text": [
      "file exist\n",
      "file size 12288 bytes\n",
      "file size 12.0 KB\n",
      "file size 0.01171875 MB\n",
      "file size 1.1444091796875e-05 GB\n"
     ]
    }
   ],
   "source": [
    "file = \"C:\\Program Files\"\n",
    "if os.path.exists(file):\n",
    "  print('file exist')\n",
    "  size = os.path.getsize(file)\n",
    "  print('file size', size, 'bytes')\n",
    "  print('file size', size/1024, 'KB')\n",
    "  print('file size', size/(1024*1024), 'MB')\n",
    "  print('file size', size/(1024**3), 'GB')\n",
    "\n",
    "else:\n",
    "    print('file does not exist ')\n",
    "\n"
   ]
  },
  {
   "cell_type": "code",
   "execution_count": null,
   "metadata": {},
   "outputs": [],
   "source": []
  }
 ],
 "metadata": {
  "kernelspec": {
   "display_name": "base",
   "language": "python",
   "name": "python3"
  },
  "language_info": {
   "codemirror_mode": {
    "name": "ipython",
    "version": 3
   },
   "file_extension": ".py",
   "mimetype": "text/x-python",
   "name": "python",
   "nbconvert_exporter": "python",
   "pygments_lexer": "ipython3",
   "version": "3.10.8"
  },
  "orig_nbformat": 4,
  "vscode": {
   "interpreter": {
    "hash": "bd97b8bffa4d3737e84826bc3d37be3046061822757ce35137ab82ad4c5a2016"
   }
  }
 },
 "nbformat": 4,
 "nbformat_minor": 2
}
