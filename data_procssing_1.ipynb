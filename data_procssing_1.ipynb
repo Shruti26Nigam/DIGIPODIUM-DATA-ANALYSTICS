{
 "cells": [
  {
   "cell_type": "code",
   "execution_count": 14,
   "metadata": {},
   "outputs": [],
   "source": [
    "import pandas as pd\n",
    "import numpy as ny"
   ]
  },
  {
   "cell_type": "code",
   "execution_count": 15,
   "metadata": {},
   "outputs": [],
   "source": [
    "filepath = 'laptops.csv'\n",
    "df = pd.read_csv(filepath)"
   ]
  },
  {
   "cell_type": "code",
   "execution_count": 16,
   "metadata": {},
   "outputs": [
    {
     "data": {
      "text/html": [
       "<div>\n",
       "<style scoped>\n",
       "    .dataframe tbody tr th:only-of-type {\n",
       "        vertical-align: middle;\n",
       "    }\n",
       "\n",
       "    .dataframe tbody tr th {\n",
       "        vertical-align: top;\n",
       "    }\n",
       "\n",
       "    .dataframe thead th {\n",
       "        text-align: right;\n",
       "    }\n",
       "</style>\n",
       "<table border=\"1\" class=\"dataframe\">\n",
       "  <thead>\n",
       "    <tr style=\"text-align: right;\">\n",
       "      <th></th>\n",
       "      <th>title</th>\n",
       "      <th>price</th>\n",
       "    </tr>\n",
       "  </thead>\n",
       "  <tbody>\n",
       "    <tr>\n",
       "      <th>0</th>\n",
       "      <td>HP 15s, AMD Ryzen 3 5300U, 15.6 inch(39.6cm) F...</td>\n",
       "      <td>39,990</td>\n",
       "    </tr>\n",
       "    <tr>\n",
       "      <th>1</th>\n",
       "      <td>Dell Vostro 3420 Laptop,12th Gen Intel Core i3...</td>\n",
       "      <td>41,990</td>\n",
       "    </tr>\n",
       "    <tr>\n",
       "      <th>2</th>\n",
       "      <td>Honor MagicBook 14, AMD Ryzen 5 5500U 14-inch ...</td>\n",
       "      <td>44,490</td>\n",
       "    </tr>\n",
       "    <tr>\n",
       "      <th>3</th>\n",
       "      <td>HP 255 G8 Laptop with AMD Athlon Silver 3050U ...</td>\n",
       "      <td>26,999</td>\n",
       "    </tr>\n",
       "    <tr>\n",
       "      <th>4</th>\n",
       "      <td>Lenovo IdeaPad Slim 3 Intel Core i3-1115G4 11t...</td>\n",
       "      <td>33,639</td>\n",
       "    </tr>\n",
       "    <tr>\n",
       "      <th>...</th>\n",
       "      <td>...</td>\n",
       "      <td>...</td>\n",
       "    </tr>\n",
       "    <tr>\n",
       "      <th>402</th>\n",
       "      <td>Samsung original 8GB 1 x 8GB 204-pin SODIMM DD...</td>\n",
       "      <td>1,800</td>\n",
       "    </tr>\n",
       "    <tr>\n",
       "      <th>403</th>\n",
       "      <td>Bennett Nylon Drax Laptops, Tablets Laptop Bag...</td>\n",
       "      <td>464</td>\n",
       "    </tr>\n",
       "    <tr>\n",
       "      <th>404</th>\n",
       "      <td>Bennett Nylon Drax Laptop Bag Sleeve Case Cove...</td>\n",
       "      <td>299</td>\n",
       "    </tr>\n",
       "    <tr>\n",
       "      <th>405</th>\n",
       "      <td>AmazonBasics Laptop Sleeve Case Cover Pouch fo...</td>\n",
       "      <td>409</td>\n",
       "    </tr>\n",
       "    <tr>\n",
       "      <th>406</th>\n",
       "      <td>HP 14s, 11th Gen Intel Core i3-1115G4, 8GB RAM...</td>\n",
       "      <td>37,490</td>\n",
       "    </tr>\n",
       "  </tbody>\n",
       "</table>\n",
       "<p>407 rows × 2 columns</p>\n",
       "</div>"
      ],
      "text/plain": [
       "                                                 title   price\n",
       "0    HP 15s, AMD Ryzen 3 5300U, 15.6 inch(39.6cm) F...  39,990\n",
       "1    Dell Vostro 3420 Laptop,12th Gen Intel Core i3...  41,990\n",
       "2    Honor MagicBook 14, AMD Ryzen 5 5500U 14-inch ...  44,490\n",
       "3    HP 255 G8 Laptop with AMD Athlon Silver 3050U ...  26,999\n",
       "4    Lenovo IdeaPad Slim 3 Intel Core i3-1115G4 11t...  33,639\n",
       "..                                                 ...     ...\n",
       "402  Samsung original 8GB 1 x 8GB 204-pin SODIMM DD...   1,800\n",
       "403  Bennett Nylon Drax Laptops, Tablets Laptop Bag...     464\n",
       "404  Bennett Nylon Drax Laptop Bag Sleeve Case Cove...     299\n",
       "405  AmazonBasics Laptop Sleeve Case Cover Pouch fo...     409\n",
       "406  HP 14s, 11th Gen Intel Core i3-1115G4, 8GB RAM...  37,490\n",
       "\n",
       "[407 rows x 2 columns]"
      ]
     },
     "execution_count": 16,
     "metadata": {},
     "output_type": "execute_result"
    }
   ],
   "source": [
    "df"
   ]
  },
  {
   "cell_type": "code",
   "execution_count": 17,
   "metadata": {},
   "outputs": [
    {
     "name": "stdout",
     "output_type": "stream",
     "text": [
      "<class 'pandas.core.frame.DataFrame'>\n",
      "RangeIndex: 407 entries, 0 to 406\n",
      "Data columns (total 2 columns):\n",
      " #   Column  Non-Null Count  Dtype \n",
      "---  ------  --------------  ----- \n",
      " 0   title   407 non-null    object\n",
      " 1   price   407 non-null    object\n",
      "dtypes: object(2)\n",
      "memory usage: 6.5+ KB\n"
     ]
    }
   ],
   "source": [
    "df.info()"
   ]
  },
  {
   "cell_type": "code",
   "execution_count": 18,
   "metadata": {},
   "outputs": [
    {
     "name": "stdout",
     "output_type": "stream",
     "text": [
      "['title', 'price']\n"
     ]
    }
   ],
   "source": [
    "print(df.columns.tolist())"
   ]
  },
  {
   "cell_type": "code",
   "execution_count": 19,
   "metadata": {},
   "outputs": [],
   "source": [
    "def clean_price_column(price):\n",
    "    if isinstance(price, str):         #check if price variable is a string\n",
    "        price = price.replace(',', '') #remove comma\n",
    "        price = price.strip()          # REMOVE WHITESPACE\n",
    "        if price.isnumeric():\n",
    "            price = int(price)\n",
    "            return price\n",
    "        if len(price) == 0:\n",
    "            return np.nan\n",
    "    return price"
   ]
  },
  {
   "cell_type": "code",
   "execution_count": 20,
   "metadata": {},
   "outputs": [
    {
     "data": {
      "text/plain": [
       "68500"
      ]
     },
     "execution_count": 20,
     "metadata": {},
     "output_type": "execute_result"
    }
   ],
   "source": [
    "clean_price_column('68500')"
   ]
  },
  {
   "cell_type": "code",
   "execution_count": 21,
   "metadata": {},
   "outputs": [],
   "source": [
    "df['cleaned_price'] = df['price'].apply(clean_price_column)"
   ]
  },
  {
   "cell_type": "code",
   "execution_count": 22,
   "metadata": {},
   "outputs": [
    {
     "data": {
      "text/html": [
       "<div>\n",
       "<style scoped>\n",
       "    .dataframe tbody tr th:only-of-type {\n",
       "        vertical-align: middle;\n",
       "    }\n",
       "\n",
       "    .dataframe tbody tr th {\n",
       "        vertical-align: top;\n",
       "    }\n",
       "\n",
       "    .dataframe thead th {\n",
       "        text-align: right;\n",
       "    }\n",
       "</style>\n",
       "<table border=\"1\" class=\"dataframe\">\n",
       "  <thead>\n",
       "    <tr style=\"text-align: right;\">\n",
       "      <th></th>\n",
       "      <th>title</th>\n",
       "      <th>price</th>\n",
       "      <th>cleaned_price</th>\n",
       "    </tr>\n",
       "  </thead>\n",
       "  <tbody>\n",
       "    <tr>\n",
       "      <th>0</th>\n",
       "      <td>HP 15s, AMD Ryzen 3 5300U, 15.6 inch(39.6cm) F...</td>\n",
       "      <td>39,990</td>\n",
       "      <td>39990</td>\n",
       "    </tr>\n",
       "    <tr>\n",
       "      <th>1</th>\n",
       "      <td>Dell Vostro 3420 Laptop,12th Gen Intel Core i3...</td>\n",
       "      <td>41,990</td>\n",
       "      <td>41990</td>\n",
       "    </tr>\n",
       "    <tr>\n",
       "      <th>2</th>\n",
       "      <td>Honor MagicBook 14, AMD Ryzen 5 5500U 14-inch ...</td>\n",
       "      <td>44,490</td>\n",
       "      <td>44490</td>\n",
       "    </tr>\n",
       "    <tr>\n",
       "      <th>3</th>\n",
       "      <td>HP 255 G8 Laptop with AMD Athlon Silver 3050U ...</td>\n",
       "      <td>26,999</td>\n",
       "      <td>26999</td>\n",
       "    </tr>\n",
       "    <tr>\n",
       "      <th>4</th>\n",
       "      <td>Lenovo IdeaPad Slim 3 Intel Core i3-1115G4 11t...</td>\n",
       "      <td>33,639</td>\n",
       "      <td>33639</td>\n",
       "    </tr>\n",
       "    <tr>\n",
       "      <th>...</th>\n",
       "      <td>...</td>\n",
       "      <td>...</td>\n",
       "      <td>...</td>\n",
       "    </tr>\n",
       "    <tr>\n",
       "      <th>402</th>\n",
       "      <td>Samsung original 8GB 1 x 8GB 204-pin SODIMM DD...</td>\n",
       "      <td>1,800</td>\n",
       "      <td>1800</td>\n",
       "    </tr>\n",
       "    <tr>\n",
       "      <th>403</th>\n",
       "      <td>Bennett Nylon Drax Laptops, Tablets Laptop Bag...</td>\n",
       "      <td>464</td>\n",
       "      <td>464</td>\n",
       "    </tr>\n",
       "    <tr>\n",
       "      <th>404</th>\n",
       "      <td>Bennett Nylon Drax Laptop Bag Sleeve Case Cove...</td>\n",
       "      <td>299</td>\n",
       "      <td>299</td>\n",
       "    </tr>\n",
       "    <tr>\n",
       "      <th>405</th>\n",
       "      <td>AmazonBasics Laptop Sleeve Case Cover Pouch fo...</td>\n",
       "      <td>409</td>\n",
       "      <td>409</td>\n",
       "    </tr>\n",
       "    <tr>\n",
       "      <th>406</th>\n",
       "      <td>HP 14s, 11th Gen Intel Core i3-1115G4, 8GB RAM...</td>\n",
       "      <td>37,490</td>\n",
       "      <td>37490</td>\n",
       "    </tr>\n",
       "  </tbody>\n",
       "</table>\n",
       "<p>407 rows × 3 columns</p>\n",
       "</div>"
      ],
      "text/plain": [
       "                                                 title   price  cleaned_price\n",
       "0    HP 15s, AMD Ryzen 3 5300U, 15.6 inch(39.6cm) F...  39,990          39990\n",
       "1    Dell Vostro 3420 Laptop,12th Gen Intel Core i3...  41,990          41990\n",
       "2    Honor MagicBook 14, AMD Ryzen 5 5500U 14-inch ...  44,490          44490\n",
       "3    HP 255 G8 Laptop with AMD Athlon Silver 3050U ...  26,999          26999\n",
       "4    Lenovo IdeaPad Slim 3 Intel Core i3-1115G4 11t...  33,639          33639\n",
       "..                                                 ...     ...            ...\n",
       "402  Samsung original 8GB 1 x 8GB 204-pin SODIMM DD...   1,800           1800\n",
       "403  Bennett Nylon Drax Laptops, Tablets Laptop Bag...     464            464\n",
       "404  Bennett Nylon Drax Laptop Bag Sleeve Case Cove...     299            299\n",
       "405  AmazonBasics Laptop Sleeve Case Cover Pouch fo...     409            409\n",
       "406  HP 14s, 11th Gen Intel Core i3-1115G4, 8GB RAM...  37,490          37490\n",
       "\n",
       "[407 rows x 3 columns]"
      ]
     },
     "execution_count": 22,
     "metadata": {},
     "output_type": "execute_result"
    }
   ],
   "source": [
    "df"
   ]
  },
  {
   "cell_type": "code",
   "execution_count": 23,
   "metadata": {},
   "outputs": [
    {
     "name": "stdout",
     "output_type": "stream",
     "text": [
      "<class 'pandas.core.frame.DataFrame'>\n",
      "RangeIndex: 407 entries, 0 to 406\n",
      "Data columns (total 3 columns):\n",
      " #   Column         Non-Null Count  Dtype \n",
      "---  ------         --------------  ----- \n",
      " 0   title          407 non-null    object\n",
      " 1   price          407 non-null    object\n",
      " 2   cleaned_price  407 non-null    int64 \n",
      "dtypes: int64(1), object(2)\n",
      "memory usage: 9.7+ KB\n"
     ]
    }
   ],
   "source": [
    "df.info()"
   ]
  },
  {
   "cell_type": "code",
   "execution_count": 25,
   "metadata": {},
   "outputs": [
    {
     "data": {
      "text/html": [
       "<div>\n",
       "<style scoped>\n",
       "    .dataframe tbody tr th:only-of-type {\n",
       "        vertical-align: middle;\n",
       "    }\n",
       "\n",
       "    .dataframe tbody tr th {\n",
       "        vertical-align: top;\n",
       "    }\n",
       "\n",
       "    .dataframe thead th {\n",
       "        text-align: right;\n",
       "    }\n",
       "</style>\n",
       "<table border=\"1\" class=\"dataframe\">\n",
       "  <thead>\n",
       "    <tr style=\"text-align: right;\">\n",
       "      <th></th>\n",
       "      <th>title</th>\n",
       "      <th>price</th>\n",
       "      <th>cleaned_price</th>\n",
       "    </tr>\n",
       "  </thead>\n",
       "  <tbody>\n",
       "    <tr>\n",
       "      <th>255</th>\n",
       "      <td>Apple 2023 MacBook Pro Laptop M2 Max chip with...</td>\n",
       "      <td>3,49,900</td>\n",
       "      <td>349900</td>\n",
       "    </tr>\n",
       "    <tr>\n",
       "      <th>191</th>\n",
       "      <td>Apple 2023 MacBook Pro Laptop M2 Max chip with...</td>\n",
       "      <td>3,49,900</td>\n",
       "      <td>349900</td>\n",
       "    </tr>\n",
       "    <tr>\n",
       "      <th>342</th>\n",
       "      <td>Apple 2023 MacBook Pro Laptop M2 Max chip with...</td>\n",
       "      <td>3,49,900</td>\n",
       "      <td>349900</td>\n",
       "    </tr>\n",
       "    <tr>\n",
       "      <th>127</th>\n",
       "      <td>Apple 2023 MacBook Pro Laptop M2 Max chip with...</td>\n",
       "      <td>3,49,900</td>\n",
       "      <td>349900</td>\n",
       "    </tr>\n",
       "    <tr>\n",
       "      <th>31</th>\n",
       "      <td>Apple 2023 MacBook Pro Laptop M2 Max chip with...</td>\n",
       "      <td>3,49,900</td>\n",
       "      <td>349900</td>\n",
       "    </tr>\n",
       "    <tr>\n",
       "      <th>...</th>\n",
       "      <td>...</td>\n",
       "      <td>...</td>\n",
       "      <td>...</td>\n",
       "    </tr>\n",
       "    <tr>\n",
       "      <th>140</th>\n",
       "      <td>Bennett Nylon Drax Laptop Bag Sleeve Case Cove...</td>\n",
       "      <td>299</td>\n",
       "      <td>299</td>\n",
       "    </tr>\n",
       "    <tr>\n",
       "      <th>323</th>\n",
       "      <td>Bennett Nylon Drax Laptop Bag Sleeve Case Cove...</td>\n",
       "      <td>299</td>\n",
       "      <td>299</td>\n",
       "    </tr>\n",
       "    <tr>\n",
       "      <th>76</th>\n",
       "      <td>Bennett Nylon Drax Laptop Bag Sleeve Case Cove...</td>\n",
       "      <td>299</td>\n",
       "      <td>299</td>\n",
       "    </tr>\n",
       "    <tr>\n",
       "      <th>268</th>\n",
       "      <td>Bennett Nylon Drax Laptop Bag Sleeve Case Cove...</td>\n",
       "      <td>299</td>\n",
       "      <td>299</td>\n",
       "    </tr>\n",
       "    <tr>\n",
       "      <th>44</th>\n",
       "      <td>Bennett Nylon Drax Laptop Bag Sleeve Case Cove...</td>\n",
       "      <td>299</td>\n",
       "      <td>299</td>\n",
       "    </tr>\n",
       "  </tbody>\n",
       "</table>\n",
       "<p>407 rows × 3 columns</p>\n",
       "</div>"
      ],
      "text/plain": [
       "                                                 title     price  \\\n",
       "255  Apple 2023 MacBook Pro Laptop M2 Max chip with...  3,49,900   \n",
       "191  Apple 2023 MacBook Pro Laptop M2 Max chip with...  3,49,900   \n",
       "342  Apple 2023 MacBook Pro Laptop M2 Max chip with...  3,49,900   \n",
       "127  Apple 2023 MacBook Pro Laptop M2 Max chip with...  3,49,900   \n",
       "31   Apple 2023 MacBook Pro Laptop M2 Max chip with...  3,49,900   \n",
       "..                                                 ...       ...   \n",
       "140  Bennett Nylon Drax Laptop Bag Sleeve Case Cove...       299   \n",
       "323  Bennett Nylon Drax Laptop Bag Sleeve Case Cove...       299   \n",
       "76   Bennett Nylon Drax Laptop Bag Sleeve Case Cove...       299   \n",
       "268  Bennett Nylon Drax Laptop Bag Sleeve Case Cove...       299   \n",
       "44   Bennett Nylon Drax Laptop Bag Sleeve Case Cove...       299   \n",
       "\n",
       "     cleaned_price  \n",
       "255         349900  \n",
       "191         349900  \n",
       "342         349900  \n",
       "127         349900  \n",
       "31          349900  \n",
       "..             ...  \n",
       "140            299  \n",
       "323            299  \n",
       "76             299  \n",
       "268            299  \n",
       "44             299  \n",
       "\n",
       "[407 rows x 3 columns]"
      ]
     },
     "execution_count": 25,
     "metadata": {},
     "output_type": "execute_result"
    }
   ],
   "source": [
    "df.sort_values(by='cleaned_price', ascending=False, inplace=True)\n",
    "df"
   ]
  },
  {
   "cell_type": "code",
   "execution_count": 27,
   "metadata": {},
   "outputs": [],
   "source": [
    "df.drop(columns=['price'], inplace=True)"
   ]
  },
  {
   "cell_type": "code",
   "execution_count": null,
   "metadata": {},
   "outputs": [],
   "source": []
  }
 ],
 "metadata": {
  "kernelspec": {
   "display_name": "base",
   "language": "python",
   "name": "python3"
  },
  "language_info": {
   "codemirror_mode": {
    "name": "ipython",
    "version": 3
   },
   "file_extension": ".py",
   "mimetype": "text/x-python",
   "name": "python",
   "nbconvert_exporter": "python",
   "pygments_lexer": "ipython3",
   "version": "3.10.8"
  },
  "orig_nbformat": 4,
  "vscode": {
   "interpreter": {
    "hash": "bd97b8bffa4d3737e84826bc3d37be3046061822757ce35137ab82ad4c5a2016"
   }
  }
 },
 "nbformat": 4,
 "nbformat_minor": 2
}
