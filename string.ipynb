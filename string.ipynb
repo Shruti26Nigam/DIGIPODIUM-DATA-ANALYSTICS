{
 "cells": [
  {
   "cell_type": "code",
   "execution_count": 3,
   "metadata": {},
   "outputs": [
    {
     "name": "stdout",
     "output_type": "stream",
     "text": [
      "p\n"
     ]
    }
   ],
   "source": [
    "i = 'digipodium'\n",
    "print(i[4])"
   ]
  },
  {
   "cell_type": "code",
   "execution_count": 10,
   "metadata": {},
   "outputs": [
    {
     "data": {
      "text/plain": [
       "26"
      ]
     },
     "execution_count": 10,
     "metadata": {},
     "output_type": "execute_result"
    }
   ],
   "source": [
    "n = 'abcdefghijklmnopqrstuvwxyz'\n",
    "len(n)"
   ]
  },
  {
   "cell_type": "code",
   "execution_count": 12,
   "metadata": {},
   "outputs": [
    {
     "data": {
      "text/plain": [
       "'mnopqrstuvw'"
      ]
     },
     "execution_count": 12,
     "metadata": {},
     "output_type": "execute_result"
    }
   ],
   "source": [
    "n[12:-3]"
   ]
  },
  {
   "cell_type": "code",
   "execution_count": 17,
   "metadata": {},
   "outputs": [
    {
     "data": {
      "text/plain": [
       "'vwxyz'"
      ]
     },
     "execution_count": 17,
     "metadata": {},
     "output_type": "execute_result"
    }
   ],
   "source": [
    "n[:5]\n",
    "n[-5:]"
   ]
  },
  {
   "cell_type": "code",
   "execution_count": 20,
   "metadata": {},
   "outputs": [
    {
     "name": "stdout",
     "output_type": "stream",
     "text": [
      "acegikmoqsuwy\n"
     ]
    }
   ],
   "source": [
    "every_even_index = n[::2]\n",
    "print(every_even_index)"
   ]
  },
  {
   "cell_type": "code",
   "execution_count": 26,
   "metadata": {},
   "outputs": [
    {
     "name": "stdout",
     "output_type": "stream",
     "text": [
      "Srt ia\n",
      "huiNgm\n",
      "magiN iturhS\n"
     ]
    }
   ],
   "source": [
    "name = 'Shruti Nigam'\n",
    "name_even = name[::2]\n",
    "name_odd = name[1::2]\n",
    "rev_name = name[::-1]\n",
    "print(name_even, name_odd, rev_name, sep='\\n')"
   ]
  },
  {
   "cell_type": "code",
   "execution_count": 28,
   "metadata": {},
   "outputs": [
    {
     "name": "stdout",
     "output_type": "stream",
     "text": [
      "97\n",
      "115\n"
     ]
    }
   ],
   "source": [
    "print(ord('a'))\n",
    "print(ord('s'))"
   ]
  },
  {
   "cell_type": "code",
   "execution_count": 29,
   "metadata": {},
   "outputs": [
    {
     "name": "stdout",
     "output_type": "stream",
     "text": [
      "😄\n"
     ]
    }
   ],
   "source": [
    "print(chr(128516))"
   ]
  },
  {
   "cell_type": "code",
   "execution_count": 48,
   "metadata": {},
   "outputs": [
    {
     "name": "stdout",
     "output_type": "stream",
     "text": [
      "333\n",
      "hkfjhkfjhkfj\n"
     ]
    }
   ],
   "source": [
    "word = '3'\n",
    "num = 'hkfj'\n",
    "print(word *3)\n",
    "print(num*3)"
   ]
  },
  {
   "cell_type": "code",
   "execution_count": 50,
   "metadata": {},
   "outputs": [
    {
     "name": "stdout",
     "output_type": "stream",
     "text": [
      "\n",
      " * \n",
      " *  * \n",
      " *  *  * \n",
      " *  *  *  * \n",
      " *  *  *  *  * \n",
      " *  *  *  *  *  * \n",
      " *  *  *  *  *  *  * \n",
      " *  *  *  *  *  *  *  * \n",
      " *  *  *  *  *  *  *  *  * \n"
     ]
    }
   ],
   "source": [
    "for i in range(10):\n",
    "    print(i * ' * ')"
   ]
  },
  {
   "cell_type": "code",
   "execution_count": 54,
   "metadata": {},
   "outputs": [
    {
     "name": "stdout",
     "output_type": "stream",
     "text": [
      "               *              \n",
      "             * * *            \n",
      "           * * * * *          \n",
      "         * * * * * * *        \n",
      "       * * * * * * * * *      \n",
      "     * * * * * * * * * * *    \n",
      "   * * * * * * * * * * * * *  \n"
     ]
    }
   ],
   "source": [
    "for i in range(1,15,2):\n",
    "    print( (i * ' *').center(30))"
   ]
  },
  {
   "cell_type": "code",
   "execution_count": 55,
   "metadata": {},
   "outputs": [
    {
     "ename": "TypeError",
     "evalue": "'str' object does not support item assignment",
     "output_type": "error",
     "traceback": [
      "\u001b[1;31m---------------------------------------------------------------------------\u001b[0m",
      "\u001b[1;31mTypeError\u001b[0m                                 Traceback (most recent call last)",
      "Cell \u001b[1;32mIn[55], line 1\u001b[0m\n\u001b[1;32m----> 1\u001b[0m name[\u001b[39m0\u001b[39m] \u001b[39m=\u001b[39m \u001b[39m'\u001b[39m\u001b[39mX\u001b[39m\u001b[39m'\u001b[39m\n",
      "\u001b[1;31mTypeError\u001b[0m: 'str' object does not support item assignment"
     ]
    }
   ],
   "source": [
    "name[0] = 'X' #error X since strings are immutable\n"
   ]
  },
  {
   "cell_type": "code",
   "execution_count": 16,
   "metadata": {},
   "outputs": [
    {
     "name": "stdout",
     "output_type": "stream",
     "text": [
      "              0               \n",
      "                                                                                                                  *                                                                                                                   \n",
      "              0                             0                             0               \n",
      "                                                                                                                  *                                                                                                                                                                                                                                     *                                                                                                                                                                                                                                     *                                                                                                                   \n",
      "              0                             0                             0                             0                             0               \n",
      "                                                                                                                  *                                                                                                                                                                                                                                     *                                                                                                                                                                                                                                     *                                                                                                                                                                                                                                     *                                                                                                                                                                                                                                     *                                                                                                                   \n",
      "              0                             0                             0                             0                             0                             0                             0               \n",
      "                                                                                                                  *                                                                                                                                                                                                                                     *                                                                                                                                                                                                                                     *                                                                                                                                                                                                                                     *                                                                                                                                                                                                                                     *                                                                                                                                                                                                                                     *                                                                                                                                                                                                                                     *                                                                                                                   \n",
      "              0                             0                             0                             0                             0                             0                             0                             0                             0               \n",
      "                                                                                                                  *                                                                                                                                                                                                                                     *                                                                                                                                                                                                                                     *                                                                                                                                                                                                                                     *                                                                                                                                                                                                                                     *                                                                                                                                                                                                                                     *                                                                                                                                                                                                                                     *                                                                                                                                                                                                                                     *                                                                                                                                                                                                                                     *                                                                                                                   \n",
      "              0                             0                             0                             0                             0                             0                             0                             0                             0                             0                             0               \n",
      "                                                                                                                  *                                                                                                                                                                                                                                     *                                                                                                                                                                                                                                     *                                                                                                                                                                                                                                     *                                                                                                                                                                                                                                     *                                                                                                                                                                                                                                     *                                                                                                                                                                                                                                     *                                                                                                                                                                                                                                     *                                                                                                                                                                                                                                     *                                                                                                                                                                                                                                     *                                                                                                                                                                                                                                     *                                                                                                                   \n",
      "              0                             0                             0                             0                             0                             0                             0                             0                             0                             0                             0                             0                             0               \n",
      "                                                                                                                  *                                                                                                                                                                                                                                     *                                                                                                                                                                                                                                     *                                                                                                                                                                                                                                     *                                                                                                                                                                                                                                     *                                                                                                                                                                                                                                     *                                                                                                                                                                                                                                     *                                                                                                                                                                                                                                     *                                                                                                                                                                                                                                     *                                                                                                                                                                                                                                     *                                                                                                                                                                                                                                     *                                                                                                                                                                                                                                     *                                                                                                                                                                                                                                     *                                                                                                                   \n"
     ]
    }
   ],
   "source": [
    "for i in range(1,15,2):\n",
    "    print(i *'0'.center(30))\n",
    "    print (i *'*'.center(230))"
   ]
  },
  {
   "cell_type": "code",
   "execution_count": null,
   "metadata": {},
   "outputs": [],
   "source": []
  }
 ],
 "metadata": {
  "kernelspec": {
   "display_name": "base",
   "language": "python",
   "name": "python3"
  },
  "language_info": {
   "codemirror_mode": {
    "name": "ipython",
    "version": 3
   },
   "file_extension": ".py",
   "mimetype": "text/x-python",
   "name": "python",
   "nbconvert_exporter": "python",
   "pygments_lexer": "ipython3",
   "version": "3.10.8"
  },
  "orig_nbformat": 4,
  "vscode": {
   "interpreter": {
    "hash": "bd97b8bffa4d3737e84826bc3d37be3046061822757ce35137ab82ad4c5a2016"
   }
  }
 },
 "nbformat": 4,
 "nbformat_minor": 2
}
