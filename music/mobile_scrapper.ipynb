{
 "cells": [
  {
   "cell_type": "code",
   "execution_count": 1,
   "metadata": {},
   "outputs": [],
   "source": [
    "from dputils.scrape import Scraper, Tag"
   ]
  },
  {
   "cell_type": "code",
   "execution_count": 4,
   "metadata": {},
   "outputs": [
    {
     "name": "stdout",
     "output_type": "stream",
     "text": [
      "<title>Amazon.in : phone</title>\n"
     ]
    }
   ],
   "source": [
    "query = 'phone'\n",
    "page = 1 \n",
    "webpage = Scraper(f'https://www.amazon.in/s?k={query}&page={4}')\n",
    "print(webpage.soup.title)"
   ]
  },
  {
   "cell_type": "code",
   "execution_count": 19,
   "metadata": {},
   "outputs": [],
   "source": [
    "target = Tag('div', cls='s-main-slot s-result-list s-search-results sg-row')\n",
    "items = Tag('div', cls='s-result-item')\n",
    "title = Tag('h2')\n",
    "price = Tag('span', cls='a-price-whole')\n"
   ]
  },
  {
   "cell_type": "code",
   "execution_count": 20,
   "metadata": {},
   "outputs": [
    {
     "data": {
      "text/plain": [
       "[{'title': None, 'price': None},\n",
       " {'title': None, 'price': None},\n",
       " {'title': 'Apple iPhone 13 (128GB) - Midnight  ', 'price': '61,999'},\n",
       " {'title': 'Apple iPhone 14 Pro (1 TB) - Gold  ', 'price': '1,73,139'},\n",
       " {'title': 'Samsung Galaxy M33 5G (Mystique Green, 6GB, 128GB Storage) | 6000mAh Battery | Upto 12GB RAM with RAM Plus | Travel Adapter to be Purchased Separately  ',\n",
       "  'price': '17,999'},\n",
       " {'title': 'Redmi 10A (Sea Blue, 4GB RAM, 64GB Storage) | 2 Ghz Octa Core Helio G25 | 5000 mAh Battery | Finger Print Sensor | Upto 5GB RAM with RAM Booster  ',\n",
       "  'price': '8,999'},\n",
       " {'title': 'Lava Flip, Blue - Dual Sim Keypad GSM Mobile with Unique Design, Notification LED and Number Talker  ',\n",
       "  'price': '1,790'},\n",
       " {'title': None, 'price': None},\n",
       " {'title': 'Lava Flip, Red - Dual Sim Keypad Mobile with Unique Design, Notification LED and Number Talker  ',\n",
       "  'price': '1,799'},\n",
       " {'title': 'IKALL K100 Mobile (1.8 Inch, Dual Sim) (Blue)  ', 'price': '699'},\n",
       " {'title': 'Jio Phone Next 32GB, 2 GB RAM, Blue Smartphone  ',\n",
       "  'price': '5,999'},\n",
       " {'title': 'IKALL K3310 Basic Feature Mobile Phone, 64MB (Yellow)  ',\n",
       "  'price': '744'},\n",
       " {'title': '(Renewed) Nothing Phone (1) (Black, 128 GB) (8 GB RAM)  ',\n",
       "  'price': '23,849'},\n",
       " {'title': 'Apple iPhone SE (64 GB) - Midnight (3rd Generation)  ',\n",
       "  'price': '49,900'},\n",
       " {'title': 'Apple iPhone 14 Pro Max (128 GB) - Deep Purple  ',\n",
       "  'price': '1,39,900'},\n",
       " {'title': 'Micromax X512 Anniversary Edition 1750 mAh, Torch Blink on Call, Auto Call Recording Phone (Blue)  ',\n",
       "  'price': '1,105'},\n",
       " {'title': None, 'price': None},\n",
       " {'title': 'Nokia C12 Android 12 (Go Edition) Smartphone, All-Day Battery, 4GB RAM (2GB RAM + 2GB Virtual RAM) + 64GB Capacity | Charcoal  ',\n",
       "  'price': '5,999'},\n",
       " {'title': 'OnePlus Nord 2T 5G (Jade Fog, 12GB RAM, 256GB Storage)  ',\n",
       "  'price': '33,999'},\n",
       " {'title': 'Tecno Spark 8 Pro (Interstellar Black, 4GB RAM,64GB Storage) | 48MP Triple Camera | 33W Fast Charger  ',\n",
       "  'price': '8,299'},\n",
       " {'title': 'Tecno Spark 9 (Sky Mirror, 6GB RAM,128GB Storage) | 11GB Expandable RAM | Helio G37 Gaming Processor  ',\n",
       "  'price': '8,999'},\n",
       " {'title': 'India Gadgets - Power Armor 14 Pro Rugged Android 12 Mobile Phone: 6Gb + 128Gb: 20MP Triple Camera: 6.52\" HD+ Display: Massive 10000mAh Battery: Waterproof IP68 Smartphone- Black  ',\n",
       "  'price': '35,750'},\n",
       " {'title': 'iQOO Neo 7 5G (Interstellar Black, 8GB RAM, 128GB Storage) | Dimensity 8200, only 4nm Processor in The Segment| 50% Charge in 10 mins| Motion Control & 90 FPS Gaming| Additional 2000 Off on Exchange  ',\n",
       "  'price': '29,999'},\n",
       " {'title': 'Nokia 105 Plus Single SIM, Keypad Mobile Phone with Wireless FM Radio, Memory Card Slot and MP3 Player | Charcoal  ',\n",
       "  'price': '1,379'},\n",
       " {'title': 'Apple iPhone 14 Plus (256 GB) - Blue  ', 'price': '94,900'},\n",
       " {'title': 'Apple iPhone 13 Mini (128GB) - Midnight  ', 'price': '64,900'},\n",
       " {'title': None, 'price': None},\n",
       " {'title': None, 'price': None},\n",
       " {'title': None, 'price': None}]"
      ]
     },
     "execution_count": 20,
     "metadata": {},
     "output_type": "execute_result"
    }
   ],
   "source": [
    "webpage.get_all(target,items, title=title, price=price)"
   ]
  },
  {
   "cell_type": "code",
   "execution_count": 25,
   "metadata": {},
   "outputs": [],
   "source": [
    "def scrape_product(query,page=1):\n",
    "    webpage = Scraper(f'https://www.amazon.in/s?k={query}&page={page}')\n",
    "    print(webpage.soup.title)\n",
    "     #important\n",
    "    target = Tag('div', cls='s-main-slot s-result-list s-search-results sg-row')\n",
    "    items = Tag('div', cls='s-result-item')\n",
    "    title = Tag('h2')\n",
    "    price = Tag('span', cls='a-price-whole')\n",
    "    return webpage.get_all(target,items, title=title, price=price)\n"
   ]
  },
  {
   "cell_type": "code",
   "execution_count": 27,
   "metadata": {},
   "outputs": [
    {
     "name": "stdout",
     "output_type": "stream",
     "text": [
      "<title>Amazon.in : laptops</title>\n",
      "Page 1 done\n",
      "<title>Amazon.in : laptops</title>\n",
      "Page 2 done\n",
      "<title>Amazon.in : laptops</title>\n",
      "Page 3 done\n",
      "<title>Amazon.in : laptops</title>\n",
      "Page 4 done\n",
      "<title>Amazon.in : laptops</title>\n",
      "Page 5 done\n",
      "<title>Amazon.in : laptops</title>\n",
      "Page 6 done\n",
      "<title>Amazon.in : laptops</title>\n",
      "Page 7 done\n",
      "<title>Amazon.in : laptops</title>\n",
      "Page 8 done\n",
      "<title>Amazon.in : laptops</title>\n",
      "Page 9 done\n",
      "<title>Amazon.in : laptops</title>\n",
      "Page 10 done\n",
      "<title>Amazon.in : laptops</title>\n",
      "Page 11 done\n",
      "<title>Amazon.in : laptops</title>\n",
      "Page 12 done\n",
      "<title>Amazon.in : laptops</title>\n",
      "Page 13 done\n",
      "<title>Amazon.in : laptops</title>\n",
      "Page 14 done\n"
     ]
    }
   ],
   "source": [
    "all_data = []\n",
    "query='laptops'\n",
    "for i in range(1, 14):\n",
    "    all_data.extend(scrape_product(query,1))\n",
    "    print(f'Page {i} done')"
   ]
  },
  {
   "cell_type": "code",
   "execution_count": null,
   "metadata": {},
   "outputs": [],
   "source": [
    " "
   ]
  }
 ],
 "metadata": {
  "kernelspec": {
   "display_name": "base",
   "language": "python",
   "name": "python3"
  },
  "language_info": {
   "codemirror_mode": {
    "name": "ipython",
    "version": 3
   },
   "file_extension": ".py",
   "mimetype": "text/x-python",
   "name": "python",
   "nbconvert_exporter": "python",
   "pygments_lexer": "ipython3",
   "version": "3.10.8"
  },
  "orig_nbformat": 4,
  "vscode": {
   "interpreter": {
    "hash": "bd97b8bffa4d3737e84826bc3d37be3046061822757ce35137ab82ad4c5a2016"
   }
  }
 },
 "nbformat": 4,
 "nbformat_minor": 2
}
