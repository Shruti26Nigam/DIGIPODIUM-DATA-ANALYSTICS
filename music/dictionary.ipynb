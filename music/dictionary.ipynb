{
 "cells": [
  {
   "cell_type": "code",
   "execution_count": 1,
   "metadata": {},
   "outputs": [
    {
     "name": "stdout",
     "output_type": "stream",
     "text": [
      "['Brandon Sanderson', 'The Lost Metal', '7', 'Fanatsy', '2022', '19.00']\n"
     ]
    }
   ],
   "source": [
    "details = ['Brandon Sanderson','The Lost Metal','7','Fanatsy','2022','19.00']\n",
    "print(details)"
   ]
  },
  {
   "cell_type": "markdown",
   "metadata": {},
   "source": []
  },
  {
   "cell_type": "code",
   "execution_count": 4,
   "metadata": {},
   "outputs": [],
   "source": [
    "details_dict = {\n",
    "    'Author': 'Brandon Sanderson',\n",
    "    'Title' : 'The Lost Metal',\n",
    "    'Part' : 7,\n",
    "    'Genre': 'Fanatsy',\n",
    "    'Release Date': '2022',\n",
    "    'Price': '$19.00'\n",
    "\n",
    "}"
   ]
  },
  {
   "cell_type": "code",
   "execution_count": 7,
   "metadata": {},
   "outputs": [
    {
     "name": "stdout",
     "output_type": "stream",
     "text": [
      "{'Author': 'Brandon Sanderson', 'Title': 'The Lost Metal', 'Part': 7, 'Genre': 'Fanatsy', 'Release Date': '2022', 'Price': '$19.00'}\n",
      "<class 'dict'>\n"
     ]
    }
   ],
   "source": [
    "print(details_dict)\n",
    "print(type(details_dict))"
   ]
  },
  {
   "cell_type": "code",
   "execution_count": 8,
   "metadata": {},
   "outputs": [
    {
     "data": {
      "text/plain": [
       "'Brandon Sanderson'"
      ]
     },
     "execution_count": 8,
     "metadata": {},
     "output_type": "execute_result"
    }
   ],
   "source": [
    "details_dict['Author']"
   ]
  },
  {
   "cell_type": "code",
   "execution_count": 9,
   "metadata": {},
   "outputs": [],
   "source": [
    "details_dict['Release Date'] = '15 Nov, 22'"
   ]
  },
  {
   "cell_type": "code",
   "execution_count": 10,
   "metadata": {},
   "outputs": [
    {
     "data": {
      "text/plain": [
       "{'Author': 'Brandon Sanderson',\n",
       " 'Title': 'The Lost Metal',\n",
       " 'Part': 7,\n",
       " 'Genre': 'Fanatsy',\n",
       " 'Release Date': '15 Nov, 22',\n",
       " 'Price': '$19.00'}"
      ]
     },
     "execution_count": 10,
     "metadata": {},
     "output_type": "execute_result"
    }
   ],
   "source": [
    "details_dict"
   ]
  },
  {
   "cell_type": "code",
   "execution_count": 18,
   "metadata": {},
   "outputs": [],
   "source": [
    "student_details = {\n",
    "    'Name': 'Harshita Verma',\n",
    "    'Class': '12th',\n",
    "    'Section': 'A',\n",
    "    'School': 'Eram Girls Inter School',\n",
    "    'Roll No.': 624,\n",
    "    'Age': 17,\n",
    "    'DOB': '26-oct',\n",
    "\n",
    "}"
   ]
  },
  {
   "cell_type": "code",
   "execution_count": 14,
   "metadata": {},
   "outputs": [
    {
     "name": "stdout",
     "output_type": "stream",
     "text": [
      "{'Name': 'Harshita Verma', 'Class': '12th', 'Section': 'A', 'School': 'Eram Girls Inter School', 'Roll No.': 624, 'Age': 17}\n",
      "<class 'dict'>\n"
     ]
    }
   ],
   "source": [
    "print(student_details)\n",
    "print(type(student_details))"
   ]
  },
  {
   "cell_type": "code",
   "execution_count": 19,
   "metadata": {},
   "outputs": [],
   "source": [
    "details_dict['pages'] = 528\n"
   ]
  },
  {
   "cell_type": "code",
   "execution_count": 20,
   "metadata": {},
   "outputs": [
    {
     "data": {
      "text/plain": [
       "{'Author': 'Brandon Sanderson',\n",
       " 'Title': 'The Lost Metal',\n",
       " 'Part': 7,\n",
       " 'Genre': 'Fanatsy',\n",
       " 'Release Date': '15 Nov, 22',\n",
       " 'Price': '$19.00',\n",
       " 'pages': 528}"
      ]
     },
     "execution_count": 20,
     "metadata": {},
     "output_type": "execute_result"
    }
   ],
   "source": [
    "details_dict"
   ]
  },
  {
   "cell_type": "code",
   "execution_count": 21,
   "metadata": {},
   "outputs": [
    {
     "name": "stdout",
     "output_type": "stream",
     "text": [
      "Author\n",
      "Title\n",
      "Part\n",
      "Genre\n",
      "Release Date\n",
      "Price\n",
      "pages\n"
     ]
    }
   ],
   "source": [
    "for k in details_dict:\n",
    "    print(k)"
   ]
  },
  {
   "cell_type": "code",
   "execution_count": 23,
   "metadata": {},
   "outputs": [
    {
     "name": "stdout",
     "output_type": "stream",
     "text": [
      "Author               Brandon Sanderson\n",
      "Title                The Lost Metal\n",
      "Part                 7\n",
      "Genre                Fanatsy\n",
      "Release Date         15 Nov, 22\n",
      "Price                $19.00\n",
      "pages                528\n"
     ]
    }
   ],
   "source": [
    "#values\n",
    "for k,v in details_dict.items():\n",
    "    print(f'{k:20} {v}')"
   ]
  },
  {
   "cell_type": "code",
   "execution_count": 24,
   "metadata": {},
   "outputs": [
    {
     "name": "stdout",
     "output_type": "stream",
     "text": [
      "Brandon Sanderson\n",
      "The Lost Metal\n",
      "7\n",
      "Fanatsy\n",
      "15 Nov, 22\n",
      "$19.00\n",
      "528\n"
     ]
    }
   ],
   "source": [
    "#values\n",
    "for k in details_dict:\n",
    "    print(details_dict[k])\n",
    "\n"
   ]
  },
  {
   "cell_type": "code",
   "execution_count": 25,
   "metadata": {},
   "outputs": [
    {
     "data": {
      "text/plain": [
       "['Brandon Sanderson',\n",
       " 'The Lost Metal',\n",
       " 7,\n",
       " 'Fanatsy',\n",
       " '15 Nov, 22',\n",
       " '$19.00',\n",
       " 528]"
      ]
     },
     "execution_count": 25,
     "metadata": {},
     "output_type": "execute_result"
    }
   ],
   "source": [
    "list(details_dict.values())"
   ]
  },
  {
   "cell_type": "code",
   "execution_count": 26,
   "metadata": {},
   "outputs": [
    {
     "data": {
      "text/plain": [
       "['Author', 'Title', 'Part', 'Genre', 'Release Date', 'Price', 'pages']"
      ]
     },
     "execution_count": 26,
     "metadata": {},
     "output_type": "execute_result"
    }
   ],
   "source": [
    "list(details_dict.keys())"
   ]
  },
  {
   "cell_type": "code",
   "execution_count": 27,
   "metadata": {},
   "outputs": [
    {
     "data": {
      "text/plain": [
       "0"
      ]
     },
     "execution_count": 27,
     "metadata": {},
     "output_type": "execute_result"
    }
   ],
   "source": [
    "details_dict.get('Pages', 0)"
   ]
  },
  {
   "cell_type": "code",
   "execution_count": null,
   "metadata": {},
   "outputs": [],
   "source": []
  }
 ],
 "metadata": {
  "kernelspec": {
   "display_name": "base",
   "language": "python",
   "name": "python3"
  },
  "language_info": {
   "codemirror_mode": {
    "name": "ipython",
    "version": 3
   },
   "file_extension": ".py",
   "mimetype": "text/x-python",
   "name": "python",
   "nbconvert_exporter": "python",
   "pygments_lexer": "ipython3",
   "version": "3.10.8"
  },
  "orig_nbformat": 4,
  "vscode": {
   "interpreter": {
    "hash": "bd97b8bffa4d3737e84826bc3d37be3046061822757ce35137ab82ad4c5a2016"
   }
  }
 },
 "nbformat": 4,
 "nbformat_minor": 2
}
