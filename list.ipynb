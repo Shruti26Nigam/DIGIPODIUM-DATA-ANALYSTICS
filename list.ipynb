{
 "cells": [
  {
   "cell_type": "code",
   "execution_count": 3,
   "metadata": {},
   "outputs": [],
   "source": [
    "a = [] #empty list\n",
    "b = [1,5 ,8,78,3] # list of integers\n",
    "c = ['apple', 'banana', 'orange'] # list of strings\n",
    "d = [[1,2,3], [4,3,6], [8,4,6]] # list of list (nested list)\n",
    "e = ['apple', 'true', '45', '74.4'] "
   ]
  },
  {
   "cell_type": "code",
   "execution_count": 4,
   "metadata": {},
   "outputs": [
    {
     "name": "stdout",
     "output_type": "stream",
     "text": [
      "['t', 'h', 'e', ' ', 'l', 'o', 's', 't', ' ', 'm', 'e', 't', 'a', 'l']\n"
     ]
    }
   ],
   "source": [
    "word = 'the lost metal'\n",
    "chars = list(word)\n",
    "print(chars)"
   ]
  },
  {
   "cell_type": "code",
   "execution_count": 6,
   "metadata": {},
   "outputs": [
    {
     "name": "stdout",
     "output_type": "stream",
     "text": [
      "[1, 2, 3, 1, 2, 3, 1, 2, 3, 1, 2, 3, 1, 2, 3]\n"
     ]
    }
   ],
   "source": [
    "f = [1,2,3] * 5 # repeat list 5 times\n",
    "print(f)"
   ]
  },
  {
   "cell_type": "code",
   "execution_count": 9,
   "metadata": {},
   "outputs": [],
   "source": [
    "name = input(\"enter a name:\")\n",
    "a.append(name)"
   ]
  },
  {
   "cell_type": "code",
   "execution_count": 10,
   "metadata": {},
   "outputs": [
    {
     "data": {
      "text/plain": [
       "13"
      ]
     },
     "execution_count": 10,
     "metadata": {},
     "output_type": "execute_result"
    }
   ],
   "source": [
    "movie = ['Deewar','A wednesday','Kahaani','KGF','Harry potter','vicky donar','Mission Manju','Mission Impossible','Spiderman','the prestige','RRR','Pathan','3 idiots']\n",
    "len(movie)"
   ]
  },
  {
   "cell_type": "code",
   "execution_count": 11,
   "metadata": {},
   "outputs": [
    {
     "name": "stdout",
     "output_type": "stream",
     "text": [
      "vicky donar\n",
      "3 idiots\n"
     ]
    }
   ],
   "source": [
    "print(movie[5])\n",
    "print(movie[-1])"
   ]
  },
  {
   "cell_type": "code",
   "execution_count": 14,
   "metadata": {},
   "outputs": [],
   "source": [
    "movie[3] = 'batsman'"
   ]
  },
  {
   "cell_type": "code",
   "execution_count": 21,
   "metadata": {},
   "outputs": [
    {
     "name": "stdout",
     "output_type": "stream",
     "text": [
      "['Deewar', 'A wednesday', 'Kahaani', 'batsman']\n",
      "['the prestige', 'RRR', 'Pathan', '3 idiots']\n",
      "['batsman', 'Harry potter', 'vicky donar', 'Mission Manju', 'Mission Impossible', 'Spiderman', 'the prestige']\n",
      "['3 idiots', 'Pathan', 'RRR', 'the prestige', 'Spiderman', 'Mission Impossible', 'Mission Manju', 'vicky donar', 'Harry potter', 'batsman', 'Kahaani', 'A wednesday', 'Deewar']\n"
     ]
    }
   ],
   "source": [
    "print(movie[:4])\n",
    "print(movie[-4:])\n",
    "print(movie[3:-3])\n",
    "print(movie[::-1])"
   ]
  },
  {
   "cell_type": "code",
   "execution_count": null,
   "metadata": {},
   "outputs": [],
   "source": []
  },
  {
   "cell_type": "code",
   "execution_count": null,
   "metadata": {},
   "outputs": [],
   "source": []
  }
 ],
 "metadata": {
  "kernelspec": {
   "display_name": "base",
   "language": "python",
   "name": "python3"
  },
  "language_info": {
   "codemirror_mode": {
    "name": "ipython",
    "version": 3
   },
   "file_extension": ".py",
   "mimetype": "text/x-python",
   "name": "python",
   "nbconvert_exporter": "python",
   "pygments_lexer": "ipython3",
   "version": "3.10.8"
  },
  "orig_nbformat": 4,
  "vscode": {
   "interpreter": {
    "hash": "bd97b8bffa4d3737e84826bc3d37be3046061822757ce35137ab82ad4c5a2016"
   }
  }
 },
 "nbformat": 4,
 "nbformat_minor": 2
}
